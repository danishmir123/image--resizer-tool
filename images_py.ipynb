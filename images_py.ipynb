{
  "nbformat": 4,
  "nbformat_minor": 0,
  "metadata": {
    "colab": {
      "provenance": [],
      "authorship_tag": "ABX9TyPv+KPlVOuHYVxmUpfzZXTr",
      "include_colab_link": true
    },
    "kernelspec": {
      "name": "python3",
      "display_name": "Python 3"
    },
    "language_info": {
      "name": "python"
    }
  },
  "cells": [
    {
      "cell_type": "markdown",
      "metadata": {
        "id": "view-in-github",
        "colab_type": "text"
      },
      "source": [
        "<a href=\"https://colab.research.google.com/github/danishmir123/image--resizer-tool/blob/main/images_py.ipynb\" target=\"_parent\"><img src=\"https://colab.research.google.com/assets/colab-badge.svg\" alt=\"Open In Colab\"/></a>"
      ]
    },
    {
      "cell_type": "code",
      "execution_count": null,
      "metadata": {
        "id": "O-x_BHfyviZl"
      },
      "outputs": [],
      "source": [
        "import os\n",
        "from PIL import Image\n",
        "\n",
        "input_folder = \"/content/images\"\n",
        "output_folder = \"/content/resized_images\"\n",
        "output_size = (800, 800)\n",
        "\n",
        "os.makedirs(output_folder, exist_ok=True)\n",
        "\n",
        "for filename in os.listdir(input_folder):\n",
        "    try:\n",
        "        if filename.lower().endswith((\".jpg\", \".jpeg\", \".png\", \".bmp\", \".webp\")):\n",
        "            path = os.path.join(input_folder, filename)\n",
        "            img = Image.open(path)\n",
        "            img_resized = img.resize(output_size)\n",
        "            new_name = os.path.splitext(filename)[0] + \".png\"\n",
        "            img_resized.save(os.path.join(output_folder, new_name))\n",
        "            print(f\"Done: {filename}\")\n",
        "    except Exception as e:\n",
        "        print(f\"Failed: {filename} - {e}\")\n"
      ]
    },
    {
      "cell_type": "code",
      "metadata": {
        "id": "a38494e5"
      },
      "source": [
        "import os\n",
        "from PIL import Image\n",
        "\n",
        "input_folder = \"/content/DANII.jpg\"\n",
        "output_folder = \"/content/resized_images\"\n",
        "output_size = (800, 800)\n",
        "\n",
        "# Create the input directory if it doesn't exist\n",
        "os.makedirs(input_folder, exist_ok=True)\n",
        "\n",
        "# Create some dummy images for testing\n",
        "try:\n",
        "    img1 = Image.new('RGB', (1200, 900), color = 'red')\n",
        "    img1.save(os.path.join(input_folder, 'dummy_image_1.jpg'))\n",
        "\n",
        "    img2 = Image.new('RGB', (1000, 1500), color = 'blue')\n",
        "    img2.save(os.path.join(input_folder, 'dummy_image_2.png'))\n",
        "\n",
        "    print(\"Dummy images created in /content/DANII.jpg\")\n",
        "\n",
        "except Exception as e:\n",
        "    print(f\"Failed to create dummy images: {e}\")"
      ],
      "execution_count": null,
      "outputs": []
    },
    {
      "cell_type": "markdown",
      "metadata": {
        "id": "8d52da78"
      },
      "source": [
        "Now that the input directory is created and contains some images, you can run the original code cell to resize them."
      ]
    }
  ]
}